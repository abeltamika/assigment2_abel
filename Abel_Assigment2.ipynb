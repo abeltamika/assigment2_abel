{
  "nbformat": 4,
  "nbformat_minor": 0,
  "metadata": {
    "colab": {
      "provenance": []
    },
    "kernelspec": {
      "name": "python3",
      "display_name": "Python 3"
    },
    "language_info": {
      "name": "python"
    }
  },
  "cells": [
    {
      "cell_type": "code",
      "source": [
        "import rumus"
      ],
      "metadata": {
        "id": "jO2iX_Uip94W"
      },
      "execution_count": 17,
      "outputs": []
    },
    {
      "cell_type": "code",
      "source": [
        "number = input('masukan angka dengan pemisah spasi:')\n",
        "daftar_angka = list(map(int,(number.split( ))))\n",
        "cetak = angka_posisi(daftar_angka)\n",
        "print(cetak)"
      ],
      "metadata": {
        "colab": {
          "base_uri": "https://localhost:8080/"
        },
        "id": "bHhah60z7fWY",
        "outputId": "51c20f7d-9789-4eda-ab0d-28dedddc4c53"
      },
      "execution_count": 20,
      "outputs": [
        {
          "output_type": "stream",
          "name": "stdout",
          "text": [
            "masukan angka dengan pemisah spasi:100 200 300 -400\n",
            "-1\n"
          ]
        }
      ]
    },
    {
      "cell_type": "code",
      "execution_count": 21,
      "metadata": {
        "id": "WnBvj27mrZMD",
        "colab": {
          "base_uri": "https://localhost:8080/"
        },
        "outputId": "1f1df9c5-1ff6-4e46-f8de-022c7efccb98"
      },
      "outputs": [
        {
          "output_type": "stream",
          "name": "stdout",
          "text": [
            "masukkan alas: 3\n",
            "masukkan tinggi: 4\n",
            "luas: 6.0 cm²\n"
          ]
        }
      ],
      "source": [
        "alas = int(input(\"masukkan alas: \"))\n",
        "tinggi = int(input(\"masukkan tinggi: \"))\n",
        "\n",
        "print(f\"luas: {rumus.hitung_luas(alas, tinggi)} cm²\")"
      ]
    },
    {
      "cell_type": "code",
      "source": [
        "alas = int(input(\"masukkan alas: \"))\n",
        "tinggi = int(input(\"masukkan tinggi: \"))\n",
        "sisi_miring = int(input(\"masukkan sisi miring: \"))\n",
        "\n",
        "print(f\"keliling: {rumus.hitung_keliling(alas, tinggi, sisi_miring)} cm\")"
      ],
      "metadata": {
        "colab": {
          "base_uri": "https://localhost:8080/"
        },
        "id": "GC0nTVdjsnGi",
        "outputId": "604b14cc-4263-4157-d681-8c4b309f9b28"
      },
      "execution_count": 22,
      "outputs": [
        {
          "output_type": "stream",
          "name": "stdout",
          "text": [
            "masukkan alas: 3\n",
            "masukkan tinggi: 4\n",
            "masukkan sisi miring: 5\n",
            "keliling: 12 cm\n"
          ]
        }
      ]
    }
  ]
}